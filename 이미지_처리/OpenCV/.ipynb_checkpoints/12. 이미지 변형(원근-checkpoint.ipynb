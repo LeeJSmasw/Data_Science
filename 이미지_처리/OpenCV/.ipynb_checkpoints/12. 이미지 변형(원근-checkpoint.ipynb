{
 "cells": [
  {
   "cell_type": "markdown",
   "id": "1d66baa7",
   "metadata": {},
   "source": [
    "# 사다리꼴 이미지 펼치기"
   ]
  },
  {
   "cell_type": "code",
   "execution_count": 11,
   "id": "5d0b8d9e",
   "metadata": {},
   "outputs": [],
   "source": [
    "import cv2\n",
    "import numpy as np\n",
    "\n",
    "img = cv2.imread('newspaper.jpg')\n",
    "\n",
    "width, height = 640, 240\n",
    "\n",
    "src = np.array([[511,352],[1008,345],[1122,584],[455,594]],dtype=np.float32) #input 4개지점 \n",
    "dst =np.array([[0,0],[width,0],[width,height],[0,height]],dtype=np.float32) #output 4개 지점\n",
    "\n",
    "matrix =cv2.getPerspectiveTransform(src,dst) #Matrix 얻어옴\n",
    "result =cv2.warpPerspective(img,matrix,(width,height)) #matrix 대로 변환을 함\n",
    "\n",
    "cv2.imshow('img',img)\n",
    "cv2.imshow('result',result)\n",
    "cv2.waitKey(0)\n",
    "cv2.destroyAllWindows()\n"
   ]
  },
  {
   "cell_type": "code",
   "execution_count": 12,
   "id": "a7cc2b26",
   "metadata": {},
   "outputs": [],
   "source": [
    "import cv2\n",
    "import numpy as np\n",
    "\n",
    "img = cv2.imread('poker.jpg')\n",
    "#나도코드랑 원본이 달라서 다르게 출력되는구만\n",
    "\n",
    "width, height = 530, 710 # 크기를 잘 정하는 것도 능력이구만\n",
    "\n",
    "src = np.array([[702,143],[1133,413],[726,1007],[276,700]],dtype=np.float32) #input 4개지점 \n",
    "dst =np.array([[0,0],[width,0],[width,height],[0,height]],dtype=np.float32) #output 4개 지점\n",
    "\n",
    "matrix =cv2.getPerspectiveTransform(src,dst) #Matrix 얻어옴\n",
    "result =cv2.warpPerspective(img,matrix,(width,height)) #matrix 대로 변환을 함\n",
    "\n",
    "cv2.imshow('img',img)\n",
    "cv2.imshow('result',result)\n",
    "cv2.waitKey(0)\n",
    "cv2.destroyAllWindows()\n"
   ]
  },
  {
   "cell_type": "markdown",
   "id": "19d3900a",
   "metadata": {},
   "source": [
    "## 미니 프로젝트 : 반자동 문서 스캐너\n",
    "마우스로 직사각형을 펼치는 ???? 너무 편한겠구만"
   ]
  },
  {
   "cell_type": "raw",
   "id": "9b305e81",
   "metadata": {},
   "source": [
    "마우스 이벤트 등록"
   ]
  },
  {
   "cell_type": "code",
   "execution_count": 17,
   "id": "c2604db2",
   "metadata": {},
   "outputs": [
    {
     "name": "stdout",
     "output_type": "stream",
     "text": [
      "왼쪽 버튼 누름\n",
      "979 229\n",
      "왼쪽 버튼 up\n",
      "979 229\n",
      "왼쪽 버튼 더블ㄹ 클릭\n",
      "왼쪽 버튼 up\n",
      "979 229\n",
      "왼쪽 버튼 누름\n",
      "595 606\n",
      "왼쪽 버튼 up\n",
      "595 606\n",
      "왼쪽 버튼 더블ㄹ 클릭\n",
      "왼쪽 버튼 up\n",
      "595 606\n",
      "왼쪽 버튼 누름\n",
      "1254 480\n",
      "왼쪽 버튼 up\n",
      "1254 480\n",
      "왼쪽 버튼 더블ㄹ 클릭\n",
      "왼쪽 버튼 up\n",
      "1254 480\n",
      "왼쪽 버튼 누름\n",
      "879 888\n",
      "왼쪽 버튼 up\n",
      "879 888\n",
      "왼쪽 버튼 더블ㄹ 클릭\n",
      "왼쪽 버튼 up\n",
      "879 888\n"
     ]
    }
   ],
   "source": [
    "import cv2\n",
    "\n",
    "def mouse_handler(event,x,y,flgas, param):\n",
    "    if event ==cv2.EVENT_LBUTTONDOWN: # 마우스 왼쪽 버튼 누름\n",
    "        print('왼쪽 버튼 누름')\n",
    "        print(x,y)\n",
    "    elif event == cv2.EVENT_LBUTTONUP: # 마우스 왼쪽 버튼 up\n",
    "        print('왼쪽 버튼 up')\n",
    "        print(x,y)\n",
    "    elif event ==cv2.EVENT_LBUTTONDBLCLK: #마우스 왼쪽 버튼 클릭\n",
    "        print('왼쪽 버튼 더블ㄹ 클릭')\n",
    "#     elif event== cv2.EVENT_MOUSEMOVE: #마우스 무브\n",
    "#         print('마우스 이동')\n",
    "\n",
    "img = cv2.imread('poker.jpg')\n",
    "cv2.namedWindow('img') #img 란 이름의 윈도우를 먼저 만들어두는 것, 여기에 마우스 이벤트를 처리하기 위한 핸들러 적용\n",
    "cv2.setMouseCallback('img', mouse_handler)\n",
    "cv2.imshow('img',img)\n",
    "cv2.waitKey(0)\n",
    "cv2.destroyAllWindows()"
   ]
  },
  {
   "cell_type": "markdown",
   "id": "75cd2f73",
   "metadata": {},
   "source": [
    "# 프로젝트 코드"
   ]
  },
  {
   "cell_type": "code",
   "execution_count": 23,
   "id": "bb676a5d",
   "metadata": {},
   "outputs": [],
   "source": [
    "# 이코드의 문제점 한 번 더 누르면 스캔칸이 사라짐.. 음 어쩌면 좋을까\n",
    "import cv2\n",
    "import numpy as np\n",
    "\n",
    "point_list =[]\n",
    "COLOR = (255,0,255)\n",
    "src_img = cv2.imread('poker.jpg')\n",
    "THICKNESS =3\n",
    "drawing = False # 선을 그릴지 여부\n",
    "\n",
    "def mouse_handler(event,x,y,flgas, param):\n",
    "    global drawing\n",
    "    \n",
    "    if event ==cv2.EVENT_LBUTTONDOWN: # 마우스 왼쪽 버튼 누름\n",
    "        drawing =True #선을 그리기 시작\n",
    "        point_list.append((x,y)) #선을 그리기 시작\n",
    "        \n",
    "    if drawing:\n",
    "        prev_point = None\n",
    "        for point in point_list:\n",
    "            cv2.circle(src_img, point, 15, COLOR,cv2.FILLED)\n",
    "            if prev_point:\n",
    "                cv2.line(src_img,prev_point,point,COLOR,THICKNESS,cv2.LINE_AA)\n",
    "                #처음 else: prev_pint=point로 해서 계속 처음 잡았던 점에서 대각선으로 그어지는 문제가 발생했지..ㅎ\n",
    "            prev_point = point\n",
    "    \n",
    "    \n",
    "    \n",
    "        next_point=(x,y)\n",
    "        if len(point_list)==4:\n",
    "            show_result()\n",
    "            next_point = point_list[0] #첫번째 클릭한 지점\n",
    "        \n",
    "        \n",
    "        cv2.line(src_img, prev_point,next_point,COLOR,THICKNESS, cv2.LINE_AA)\n",
    "        \n",
    "#재밌구만.. 근데 왜 이런 현상이 반생한걸까나\n",
    "        \n",
    "    cv2.imshow('img',src_img) #클릭할 때마다 핑크 원을 추가하는 거임\n",
    "\n",
    "def show_result():\n",
    "    width, height = 530, 710 # 크기를 잘 정하는 것도 능력이구만\n",
    "    src =np.float32(point_list)\n",
    "    dst =np.array([[0,0],[width,0],[width,height],[0,height]],dtype=np.float32)\n",
    "    matrix =cv2.getPerspectiveTransform(src,dst) #Matrix 얻어옴\n",
    "    result =cv2.warpPerspective(img,matrix,(width,height)) #matrix 대로 변환을 함\n",
    "    cv2.imshow('result',result)\n",
    "                  \n",
    "img = cv2.imread('poker.jpg')\n",
    "cv2.namedWindow('img') #img 란 이름의 윈도우를 먼저 만들어두는 것, 여기에 마우스 이벤트를 처리하기 위한 핸들러 적용\n",
    "cv2.setMouseCallback('img', mouse_handler)\n",
    "cv2.imshow('img',src_img)\n",
    "cv2.waitKey(0)\n",
    "cv2.destroyAllWindows()"
   ]
  },
  {
   "cell_type": "code",
   "execution_count": 16,
   "id": "76a36870",
   "metadata": {},
   "outputs": [
    {
     "name": "stdout",
     "output_type": "stream",
     "text": [
      "god\n",
      "god\n"
     ]
    }
   ],
   "source": [
    "if type(1)==int:\n",
    "    print('god')\n",
    "print('god') #아 따로 if문으로 조건을 안넣으면 탈출해서 식이 진행되는구만\n",
    "        \n",
    "         "
   ]
  },
  {
   "cell_type": "code",
   "execution_count": 25,
   "id": "0147fd18",
   "metadata": {},
   "outputs": [],
   "source": [
    "#실시간으로 따라 직선이 따라 다니는 코드!\n",
    "import cv2\n",
    "import numpy as np\n",
    "\n",
    "point_list =[]\n",
    "COLOR = (255,0,255)\n",
    "src_img = cv2.imread('poker.jpg')\n",
    "THICKNESS =3\n",
    "drawing = False # 선을 그릴지 여부\n",
    "\n",
    "def mouse_handler(event,x,y,flgas, param):\n",
    "    global drawing\n",
    "    dst_img = src_img.copy()\n",
    "    \n",
    "    if event ==cv2.EVENT_LBUTTONDOWN: # 마우스 왼쪽 버튼 누름\n",
    "        drawing =True #선을 그리기 시작\n",
    "        point_list.append((x,y)) #선을 그리기 시작\n",
    "        \n",
    "    if drawing:\n",
    "        prev_point = None\n",
    "        for point in point_list:\n",
    "            cv2.circle(dst_img, point, 15, COLOR,cv2.FILLED)\n",
    "            if prev_point:\n",
    "                cv2.line(dst_img,prev_point,point,COLOR,THICKNESS,cv2.LINE_AA)\n",
    "                #처음 else: prev_pint=point로 해서 계속 처음 잡았던 점에서 대각선으로 그어지는 문제가 발생했지..ㅎ\n",
    "            prev_point = point\n",
    "    \n",
    "    \n",
    "    \n",
    "        next_point=(x,y)\n",
    "        if len(point_list)==4:\n",
    "            show_result()\n",
    "            next_point = point_list[0] #첫번째 클릭한 지점\n",
    "        \n",
    "        \n",
    "        cv2.line(dst_img, prev_point,next_point,COLOR,THICKNESS, cv2.LINE_AA)\n",
    "        \n",
    "#재밌구만.. 근데 왜 이런 현상이 반생한걸까나\n",
    "        \n",
    "    cv2.imshow('img',dst_img) #클릭할 때마다 핑크 원을 추가하는 거임\n",
    "\n",
    "def show_result():\n",
    "    width, height = 530, 710 # 크기를 잘 정하는 것도 능력이구만\n",
    "    src =np.float32(point_list)\n",
    "    dst =np.array([[0,0],[width,0],[width,height],[0,height]],dtype=np.float32)\n",
    "    matrix =cv2.getPerspectiveTransform(src,dst) #Matrix 얻어옴\n",
    "    result =cv2.warpPerspective(img,matrix,(width,height)) #matrix 대로 변환을 함\n",
    "    cv2.imshow('result',result)\n",
    "                  \n",
    "img = cv2.imread('poker.jpg')\n",
    "cv2.namedWindow('img') #img 란 이름의 윈도우를 먼저 만들어두는 것, 여기에 마우스 이벤트를 처리하기 위한 핸들러 적용\n",
    "cv2.setMouseCallback('img', mouse_handler)\n",
    "cv2.imshow('img',src_img)\n",
    "cv2.waitKey(0)\n",
    "cv2.destroyAllWindows()"
   ]
  },
  {
   "cell_type": "code",
   "execution_count": null,
   "id": "fb44d87f",
   "metadata": {},
   "outputs": [],
   "source": []
  }
 ],
 "metadata": {
  "kernelspec": {
   "display_name": "Python 3",
   "language": "python",
   "name": "python3"
  },
  "language_info": {
   "codemirror_mode": {
    "name": "ipython",
    "version": 3
   },
   "file_extension": ".py",
   "mimetype": "text/x-python",
   "name": "python",
   "nbconvert_exporter": "python",
   "pygments_lexer": "ipython3",
   "version": "3.8.8"
  }
 },
 "nbformat": 4,
 "nbformat_minor": 5
}
