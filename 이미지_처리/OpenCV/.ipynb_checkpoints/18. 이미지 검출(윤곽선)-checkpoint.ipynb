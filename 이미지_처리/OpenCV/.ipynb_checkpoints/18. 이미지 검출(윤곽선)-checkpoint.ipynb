{
 "cells": [
  {
   "cell_type": "markdown",
   "id": "6d32167b",
   "metadata": {},
   "source": [
    "# 18. 이미지 검출(윤곽선)"
   ]
  },
  {
   "cell_type": "code",
   "execution_count": null,
   "id": "ed939915",
   "metadata": {},
   "outputs": [],
   "source": [
    "윤곽선 : 경계선을 이은 선이 윤곽선임"
   ]
  },
  {
   "cell_type": "code",
   "execution_count": 7,
   "id": "2b981f14",
   "metadata": {},
   "outputs": [],
   "source": [
    "import cv2\n",
    "img = cv2.imread('card.png')\n",
    "#원본 이미지를 손상 시킬 수 있으므로 타켓 이미지를 활용함\n",
    "\n",
    "target_img = img.copy()\n",
    "\n",
    "gray = cv2.cvtColor(img,cv2.COLOR_BGR2GRAY)\n",
    "ret,otsu = cv2.threshold(gray, -1, 255,cv2.THRESH_BINARY | cv2.THRESH_OTSU) \n",
    "\n",
    "# 윤곽선 검출\n",
    "contours, hierarchy = cv2.findContours(otsu, cv2.RETR_LIST, cv2.CHAIN_APPROX_NONE)\n",
    "# 윤곽선 정보, 구조\n",
    "# 이미지, 윤곽선 찾는 모드(mode), 윤곽선 찾을때 사용하는 근사치 방법 (method)\n",
    "\n",
    "COLOR = (0,200,0) #녹색\n",
    "cv2.drawContours(target_img, contours, -1, COLOR, 2)\n",
    "# 대상 이미지, 윤곽선 정보, 인덱스(-1)이면 전체, 색깔, 두께\n",
    "\n",
    "\n",
    "cv2.imshow('img',img)\n",
    "cv2.imshow('gray',gray)\n",
    "cv2.imshow('otsu',otsu)\n",
    "cv2.imshow('contour',target_img)\n",
    "cv2.waitKey(0)\n",
    "cv2.destroyAllWindows()"
   ]
  },
  {
   "cell_type": "markdown",
   "id": "d3d0c5bd",
   "metadata": {},
   "source": [
    "#### 윤곽선 찾기 모드\n",
    "1. cv2.RETR_EXTERNAL : 가장 외곽의 윤곽선만\n",
    "1. cv2.RETR_LIST : 모든 윤곽선\n",
    "1. cv2.RETR_TREE : 모든 윤곽선을 찾음 (계층 정보를 트리 구조로 생성)"
   ]
  },
  {
   "cell_type": "code",
   "execution_count": 9,
   "id": "d9d22568",
   "metadata": {},
   "outputs": [],
   "source": [
    "import cv2\n",
    "img = cv2.imread('card.png')\n",
    "#원본 이미지를 손상 시킬 수 있으므로 타켓 이미지를 활용함\n",
    "\n",
    "target_img = img.copy()\n",
    "\n",
    "gray = cv2.cvtColor(img,cv2.COLOR_BGR2GRAY)\n",
    "ret,otsu = cv2.threshold(gray, -1, 255,cv2.THRESH_BINARY | cv2.THRESH_OTSU) \n",
    "\n",
    "# 윤곽선 검출\n",
    "contours, hierarchy = cv2.findContours(otsu, cv2.RETR_TREE, cv2.CHAIN_APPROX_NONE)\n",
    "# 윤곽선 정보, 구조\n",
    "# 이미지, 윤곽선 찾는 모드(mode), 윤곽선 찾을때 사용하는 근사치 방법 (method)\n",
    "\n",
    "COLOR = (0,200,0) #녹색\n",
    "cv2.drawContours(target_img, contours, -1, COLOR, 2)\n",
    "# 대상 이미지, 윤곽선 정보, 인덱스(-1)이면 전체, 색깔, 두께\n",
    "\n",
    "\n",
    "cv2.imshow('img',img)\n",
    "cv2.imshow('gray',gray)\n",
    "cv2.imshow('otsu',otsu)\n",
    "cv2.imshow('contour',target_img)\n",
    "cv2.waitKey(0)\n",
    "cv2.destroyAllWindows()"
   ]
  },
  {
   "cell_type": "code",
   "execution_count": 13,
   "id": "f480c325",
   "metadata": {},
   "outputs": [
    {
     "name": "stdout",
     "output_type": "stream",
     "text": [
      "[[[ 1 -1 -1 -1]\n",
      "  [ 2  0 -1 -1]\n",
      "  [10  1  3 -1]\n",
      "  [ 5 -1  4  2]\n",
      "  [-1 -1 -1  3]\n",
      "  [ 6  3 -1  2]\n",
      "  [ 7  5 -1  2]\n",
      "  [ 8  6 -1  2]\n",
      "  [-1  7  9  2]\n",
      "  [-1 -1 -1  8]\n",
      "  [18  2 11 -1]\n",
      "  [13 -1 12 10]\n",
      "  [-1 -1 -1 11]\n",
      "  [14 11 -1 10]\n",
      "  [15 13 -1 10]\n",
      "  [16 14 -1 10]\n",
      "  [-1 15 17 10]\n",
      "  [-1 -1 -1 16]\n",
      "  [26 10 19 -1]\n",
      "  [21 -1 20 18]\n",
      "  [-1 -1 -1 19]\n",
      "  [22 19 -1 18]\n",
      "  [23 21 -1 18]\n",
      "  [24 22 -1 18]\n",
      "  [-1 23 25 18]\n",
      "  [-1 -1 -1 24]\n",
      "  [34 18 27 -1]\n",
      "  [29 -1 28 26]\n",
      "  [-1 -1 -1 27]\n",
      "  [30 27 -1 26]\n",
      "  [31 29 -1 26]\n",
      "  [32 30 -1 26]\n",
      "  [-1 31 33 26]\n",
      "  [-1 -1 -1 32]\n",
      "  [35 26 -1 -1]\n",
      "  [-1 34 -1 -1]]]\n"
     ]
    }
   ],
   "source": [
    "print(hierarchy)"
   ]
  },
  {
   "cell_type": "code",
   "execution_count": 15,
   "id": "85b0d68b",
   "metadata": {},
   "outputs": [
    {
     "ename": "NameError",
     "evalue": "name 'controu' is not defined",
     "output_type": "error",
     "traceback": [
      "\u001b[1;31m---------------------------------------------------------------------------\u001b[0m",
      "\u001b[1;31mNameError\u001b[0m                                 Traceback (most recent call last)",
      "Input \u001b[1;32mIn [15]\u001b[0m, in \u001b[0;36m<module>\u001b[1;34m\u001b[0m\n\u001b[1;32m----> 1\u001b[0m \u001b[38;5;28mprint\u001b[39m(\u001b[38;5;124m'\u001b[39m\u001b[38;5;124m총발견 개수\u001b[39m\u001b[38;5;124m'\u001b[39m,\u001b[38;5;28mlen\u001b[39m(\u001b[43mcontrou\u001b[49m))\n",
      "\u001b[1;31mNameError\u001b[0m: name 'controu' is not defined"
     ]
    }
   ],
   "source": [
    "print('총발견 개수',len(contours))"
   ]
  },
  {
   "cell_type": "code",
   "execution_count": null,
   "id": "185da3db",
   "metadata": {},
   "outputs": [],
   "source": [
    "#### 경계 사각형\n",
    "boundRec"
   ]
  },
  {
   "cell_type": "code",
   "execution_count": 17,
   "id": "21f95664",
   "metadata": {},
   "outputs": [],
   "source": [
    "import cv2\n",
    "img = cv2.imread('card.png')\n",
    "#원본 이미지를 손상 시킬 수 있으므로 타켓 이미지를 활용함\n",
    "\n",
    "target_img = img.copy()\n",
    "\n",
    "gray = cv2.cvtColor(img,cv2.COLOR_BGR2GRAY)\n",
    "ret,otsu = cv2.threshold(gray, -1, 255,cv2.THRESH_BINARY | cv2.THRESH_OTSU) \n",
    "\n",
    "# 윤곽선 검출\n",
    "contours, hierarchy = cv2.findContours(otsu, cv2.RETR_LIST, cv2.CHAIN_APPROX_NONE)\n",
    "# 윤곽선 정보, 구조\n",
    "# 이미지, 윤곽선 찾는 모드(mode), 윤곽선 찾을때 사용하는 근사치 방법 (method)\n",
    "\n",
    "COLOR = (0,200,0) #녹색\n",
    "\n",
    "for cnt in contours:\n",
    "    x,y,width ,height = cv2.boundingRect(cnt)\n",
    "    cv2.rectangle(target_img,(x,y),(x+width,y+height),COLOR,2)\n",
    "\n",
    "\n",
    "cv2.imshow('img',img)\n",
    "cv2.imshow('gray',gray)\n",
    "cv2.imshow('otsu',otsu)\n",
    "cv2.imshow('contour',target_img)\n",
    "cv2.waitKey(0)\n",
    "cv2.destroyAllWindows()"
   ]
  },
  {
   "cell_type": "markdown",
   "id": "d8a94062",
   "metadata": {},
   "source": [
    "## 경계 사각형\n",
    "윤곽선의 경계면을 둘러쓰는 사각형"
   ]
  },
  {
   "cell_type": "code",
   "execution_count": null,
   "id": "3a483dd2",
   "metadata": {},
   "outputs": [],
   "source": [
    "import cv2\n",
    "img = cv2.imread('card.png')\n",
    "#원본 이미지를 손상 시킬 수 있으므로 타켓 이미지를 활용함\n",
    "\n",
    "target_img = img.copy()\n",
    "\n",
    "gray = cv2.cvtColor(img,cv2.COLOR_BGR2GRAY)\n",
    "ret,otsu = cv2.threshold(gray, -1, 255,cv2.THRESH_BINARY | cv2.THRESH_OTSU) \n",
    "\n",
    "# 윤곽선 검출\n",
    "contours, hierarchy = cv2.findContours(otsu, cv2.RETR_LIST, cv2.CHAIN_APPROX_NONE)\n",
    "# 윤곽선 정보, 구조\n",
    "# 이미지, 윤곽선 찾는 모드(mode), 윤곽선 찾을때 사용하는 근사치 방법 (method)\n",
    "\n",
    "COLOR = (0,200,0) #녹색\n",
    "\n",
    "for cnt in contours:\n",
    "    x,y,width ,height = cv2.boundingRect(cnt)\n",
    "    cv2.rectangle(target_img,(x,y),(x+width,y+height),COLOR,2)\n",
    "\n",
    "\n",
    "cv2.imshow('img',img)\n",
    "cv2.imshow('gray',gray)\n",
    "cv2.imshow('otsu',otsu)\n",
    "cv2.imshow('contour',target_img)\n",
    "cv2.waitKey(0)\n",
    "cv2.destroyAllWindows()"
   ]
  },
  {
   "cell_type": "markdown",
   "id": "fdb83c5f",
   "metadata": {},
   "source": [
    "# 면적\n",
    "contourArea()"
   ]
  },
  {
   "cell_type": "code",
   "execution_count": null,
   "id": "59f843c0",
   "metadata": {},
   "outputs": [],
   "source": [
    "for cnt in contours:\n",
    "    if cv2.contoursArea(cnt) > 25000: #면적이 25000보다 큰거 (가로 640  *세로 280) 대략 25000임 ㅎㅎㅎ\n",
    "        x,y,width ,height = cv2.boundingRect(cnt)\n",
    "        cv2.rectangle(target_img,(x,y),(x+width,y+height),COLOR,2"
   ]
  },
  {
   "cell_type": "markdown",
   "id": "de43d6f9",
   "metadata": {},
   "source": [
    "## 미니 프로젝트 : 개별 카드 추출해서 파일 저장\n",
    "\n",
    "윤곽선을 그리고 해당하는 카드들 뽑기!"
   ]
  },
  {
   "cell_type": "code",
   "execution_count": 20,
   "id": "b6f0f64f",
   "metadata": {},
   "outputs": [],
   "source": [
    "#개쩐다!!!!\n",
    "import cv2\n",
    "img = cv2.imread('card.png')\n",
    "#원본 이미지를 손상 시킬 수 있으므로 타켓 이미지를 활용함\n",
    "\n",
    "target_img = img.copy()\n",
    "\n",
    "gray = cv2.cvtColor(img,cv2.COLOR_BGR2GRAY)\n",
    "ret,otsu = cv2.threshold(gray, -1, 255,cv2.THRESH_BINARY | cv2.THRESH_OTSU) \n",
    "\n",
    "# 윤곽선 검출\n",
    "contours, hierarchy = cv2.findContours(otsu, cv2.RETR_LIST, cv2.CHAIN_APPROX_NONE)\n",
    "# 윤곽선 정보, 구조\n",
    "# 이미지, 윤곽선 찾는 모드(mode), 윤곽선 찾을때 사용하는 근사치 방법 (method)\n",
    "\n",
    "COLOR = (0,200,0) #녹색\n",
    "\n",
    "idx=1\n",
    "for cnt in contours:\n",
    "    if cv2.contourArea(cnt) > 25000:\n",
    "        x,y,width ,height = cv2.boundingRect(cnt)\n",
    "        cv2.rectangle(target_img,(x,y),(x+width,y+height),COLOR,2)\n",
    "        \n",
    "        crop = img[y:y+height, x:x+width]\n",
    "        cv2.imshow(f'card_crop_{idx}', crop)\n",
    "        cv2.imwrite(f'card_crop_{idx}.png',crop)\n",
    "        idx += 1\n",
    "\n",
    "\n",
    "cv2.imshow('img',img)\n",
    "cv2.imshow('gray',gray)\n",
    "cv2.imshow('otsu',otsu)\n",
    "cv2.imshow('contour',target_img)\n",
    "cv2.waitKey(0)\n",
    "cv2.destroyAllWindows()"
   ]
  },
  {
   "cell_type": "code",
   "execution_count": null,
   "id": "22fad721",
   "metadata": {},
   "outputs": [],
   "source": []
  },
  {
   "cell_type": "code",
   "execution_count": null,
   "id": "bd18675b",
   "metadata": {},
   "outputs": [],
   "source": []
  }
 ],
 "metadata": {
  "kernelspec": {
   "display_name": "Python 3 (ipykernel)",
   "language": "python",
   "name": "python3"
  },
  "language_info": {
   "codemirror_mode": {
    "name": "ipython",
    "version": 3
   },
   "file_extension": ".py",
   "mimetype": "text/x-python",
   "name": "python",
   "nbconvert_exporter": "python",
   "pygments_lexer": "ipython3",
   "version": "3.9.9"
  }
 },
 "nbformat": 4,
 "nbformat_minor": 5
}
