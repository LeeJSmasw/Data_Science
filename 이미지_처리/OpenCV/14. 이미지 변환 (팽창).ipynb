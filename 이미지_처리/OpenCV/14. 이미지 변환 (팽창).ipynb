{
 "cells": [
  {
   "cell_type": "markdown",
   "id": "94dabb2e",
   "metadata": {},
   "source": [
    "이미지를 반환하여 팽창하는 기능을 구현함"
   ]
  },
  {
   "cell_type": "raw",
   "id": "622990c7",
   "metadata": {},
   "source": [
    "이미지를 확장하여 작은 구멍을 채움????"
   ]
  },
  {
   "cell_type": "code",
   "execution_count": 1,
   "id": "71f57402",
   "metadata": {},
   "outputs": [
    {
     "ename": "error",
     "evalue": "OpenCV(4.5.5) D:\\a\\opencv-python\\opencv-python\\opencv\\modules\\imgproc\\src\\color.cpp:182: error: (-215:Assertion failed) !_src.empty() in function 'cv::cvtColor'\n",
     "output_type": "error",
     "traceback": [
      "\u001b[1;31m---------------------------------------------------------------------------\u001b[0m",
      "\u001b[1;31merror\u001b[0m                                     Traceback (most recent call last)",
      "Input \u001b[1;32mIn [1]\u001b[0m, in \u001b[0;36m<module>\u001b[1;34m\u001b[0m\n\u001b[0;32m      4\u001b[0m kernel \u001b[38;5;241m=\u001b[39m np\u001b[38;5;241m.\u001b[39mones((\u001b[38;5;241m3\u001b[39m,\u001b[38;5;241m3\u001b[39m), dtype \u001b[38;5;241m=\u001b[39mnp\u001b[38;5;241m.\u001b[39muint8)\n\u001b[0;32m      6\u001b[0m img \u001b[38;5;241m=\u001b[39m cv2\u001b[38;5;241m.\u001b[39mimread(\u001b[38;5;124m'\u001b[39m\u001b[38;5;124mdiate.png\u001b[39m\u001b[38;5;124m'\u001b[39m, cv2\u001b[38;5;241m.\u001b[39mIMREAD_GRAYSCALE)\n\u001b[1;32m----> 8\u001b[0m \u001b[43mcv2\u001b[49m\u001b[38;5;241;43m.\u001b[39;49m\u001b[43mimshow\u001b[49m\u001b[43m(\u001b[49m\u001b[38;5;124;43m'\u001b[39;49m\u001b[38;5;124;43mgray\u001b[39;49m\u001b[38;5;124;43m'\u001b[39;49m\u001b[43m,\u001b[49m\u001b[43m \u001b[49m\u001b[43mimg\u001b[49m\u001b[43m)\u001b[49m\n\u001b[0;32m      9\u001b[0m cv2\u001b[38;5;241m.\u001b[39mwaitKey(\u001b[38;5;241m0\u001b[39m)\n\u001b[0;32m     10\u001b[0m cv2\u001b[38;5;241m.\u001b[39mdestroyAllWindows()\n",
      "\u001b[1;31merror\u001b[0m: OpenCV(4.5.5) D:\\a\\opencv-python\\opencv-python\\opencv\\modules\\imgproc\\src\\color.cpp:182: error: (-215:Assertion failed) !_src.empty() in function 'cv::cvtColor'\n"
     ]
    }
   ],
   "source": [
    "import cv2\n",
    "import numpy as np\n",
    "\n",
    "kernel = np.ones((3,3), dtype =np.uint8)\n",
    "\n",
    "img = cv2.imread('diate.png', cv2.IMREAD_GRAYSCALE)\n",
    "\n",
    "cv2.imshow('gray', img)\n",
    "cv2.waitKey(0)\n",
    "cv2.destroyAllWindows()"
   ]
  },
  {
   "cell_type": "markdown",
   "id": "f303c81a",
   "metadata": {},
   "source": [
    "# 팽창 : dilate , 침식 erode"
   ]
  },
  {
   "cell_type": "markdown",
   "id": "bc681453",
   "metadata": {},
   "source": [
    "열림 : 침식후 팽창"
   ]
  },
  {
   "cell_type": "code",
   "execution_count": null,
   "id": "3fa1c61d",
   "metadata": {},
   "outputs": [],
   "source": [
    "import cv2\n",
    "import numpy as np\n",
    "kernel = np.ones((3,3),dtype =np.uint8)\n",
    "\n",
    "erode = cv2.erode(img,kernel, iterlation=3)\n",
    "dilate = cv2.dilate(img,kernel, iterlation=3)\n",
    "\n",
    "img = cv2.imre"
   ]
  },
  {
   "cell_type": "markdown",
   "id": "4527cb2a",
   "metadata": {},
   "source": [
    "닫힘 : 팽창후 침식"
   ]
  },
  {
   "cell_type": "code",
   "execution_count": null,
   "id": "29567ad4",
   "metadata": {},
   "outputs": [],
   "source": [
    "import cv2\n",
    "import numpy as np\n",
    "kernel = np.ones((3,3),dtype =np.uint8)\n",
    "\n",
    "dilate = cv2.dilate(img,kernel, iterlation=3)\n",
    "erode = cv2.erode(img,kernel, iterlation=3)\n",
    "img = cv2.imre"
   ]
  }
 ],
 "metadata": {
  "kernelspec": {
   "display_name": "Python 3 (ipykernel)",
   "language": "python",
   "name": "python3"
  },
  "language_info": {
   "codemirror_mode": {
    "name": "ipython",
    "version": 3
   },
   "file_extension": ".py",
   "mimetype": "text/x-python",
   "name": "python",
   "nbconvert_exporter": "python",
   "pygments_lexer": "ipython3",
   "version": "3.9.9"
  }
 },
 "nbformat": 4,
 "nbformat_minor": 5
}
