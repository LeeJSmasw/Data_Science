{
 "cells": [
  {
   "cell_type": "code",
   "execution_count": null,
   "metadata": {},
   "outputs": [],
   "source": [
    "# 평가 방식, 고객만족도 예측\n",
    "import numpy as np\n",
    "def ACCURACY(true, pred):\n",
    "    score = np.mean(true==pred)\n",
    "    return score\n",
    "\n",
    "\n",
    "import pandas as pd\n",
    "import lightgbm as lgb\n",
    "import matplotlib.pyplot as plt\n",
    "\n",
    "import seaborn as sns # for prettier plots"
   ]
  },
  {
   "cell_type": "code",
   "execution_count": null,
   "metadata": {},
   "outputs": [],
   "source": [
    "train_df = pd.read_csv('', header=0, index_col=0, squeeze=True, encoding='utf-8-sig')\n",
    "test_df = pd.read_csv('submission.csv',encoding='utf-8-sig')"
   ]
  }
 ],
 "metadata": {
  "language_info": {
   "name": "python"
  },
  "orig_nbformat": 4
 },
 "nbformat": 4,
 "nbformat_minor": 2
}
