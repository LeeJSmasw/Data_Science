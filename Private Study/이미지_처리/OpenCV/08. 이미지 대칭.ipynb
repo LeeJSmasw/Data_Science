{
 "cells": [
  {
   "cell_type": "markdown",
   "id": "c3dffef1",
   "metadata": {},
   "source": [
    "# 8. 이미지 대칭"
   ]
  },
  {
   "cell_type": "markdown",
   "id": "8b8b00f2",
   "metadata": {},
   "source": [
    "#좌우 대칭"
   ]
  },
  {
   "cell_type": "code",
   "execution_count": 1,
   "id": "75ef2687",
   "metadata": {},
   "outputs": [],
   "source": [
    "import cv2\n",
    "img = cv2.imread('img.jpg')\n",
    "flip_horizontal = cv2.flip(img,1) # flpcode > 0 : 좌우대칭, 0일 때 상하대칭\n",
    "\n",
    "cv2.imshow('img',img)\n",
    "cv2.imshow('flip_horizontal',flip_horizontal)\n",
    "cv2.waitKey(0)\n",
    "cv2.destroyAllWindows()"
   ]
  },
  {
   "cell_type": "code",
   "execution_count": null,
   "id": "c871d752",
   "metadata": {},
   "outputs": [],
   "source": []
  },
  {
   "cell_type": "code",
   "execution_count": 2,
   "id": "a88ca431",
   "metadata": {},
   "outputs": [
    {
     "name": "stdout",
     "output_type": "stream",
     "text": [
      "0.1 1.1 2.0 3.0\n",
      "0.1 0.1 0.2 0.3\n"
     ]
    }
   ],
   "source": [
    "a, b, c, d = round(0.05, 1), round(1.05, 1), round(2.05, 1), round(3.05, 1)\n",
    "print(a, b, c, d)\n",
    "# => 0.1 1.1 2.0 3.0 (올림, 내림, 내림, 내림)\n",
    "\n",
    "a, b, c, d = round(0.05, 1), round(0.15, 1), round(0.25, 1), round(0.35, 1)\n",
    "print(a, b, c, d)"
   ]
  },
  {
   "cell_type": "code",
   "execution_count": 3,
   "id": "cf1ce7ae",
   "metadata": {},
   "outputs": [
    {
     "name": "stdout",
     "output_type": "stream",
     "text": [
      "0.1 0.1 0.2 0.3\n"
     ]
    }
   ],
   "source": [
    "a, b, c, d = round(0.05, 1), round(0.15, 1), round(0.25, 1), round(0.35, 1)\n",
    "print(a, b, c, d)"
   ]
  },
  {
   "cell_type": "code",
   "execution_count": null,
   "id": "e93a6b42",
   "metadata": {},
   "outputs": [],
   "source": []
  }
 ],
 "metadata": {
  "kernelspec": {
   "display_name": "Python 3",
   "language": "python",
   "name": "python3"
  },
  "language_info": {
   "codemirror_mode": {
    "name": "ipython",
    "version": 3
   },
   "file_extension": ".py",
   "mimetype": "text/x-python",
   "name": "python",
   "nbconvert_exporter": "python",
   "pygments_lexer": "ipython3",
   "version": "3.8.8"
  }
 },
 "nbformat": 4,
 "nbformat_minor": 5
}
