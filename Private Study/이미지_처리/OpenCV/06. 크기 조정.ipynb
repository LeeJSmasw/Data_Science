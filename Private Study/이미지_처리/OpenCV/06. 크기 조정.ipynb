{
 "cells": [
  {
   "cell_type": "markdown",
   "id": "be7e51c2",
   "metadata": {},
   "source": [
    "이미지 고정"
   ]
  },
  {
   "cell_type": "code",
   "execution_count": 1,
   "id": "d778cc84",
   "metadata": {},
   "outputs": [],
   "source": [
    "import cv2\n",
    "img = cv2.imread('img.jpg')\n",
    "dst = cv2.resize(img,(400,500)) #width, height\n",
    "\n",
    "cv2.imshow('img',img)\n",
    "cv2.imshow('resize',dst)\n",
    "cv2.waitKey(0)\n",
    "cv2.destroyAllWindows()"
   ]
  },
  {
   "cell_type": "code",
   "execution_count": 2,
   "id": "8de2f4a9",
   "metadata": {},
   "outputs": [],
   "source": [
    "img = cv2.imread('img.jpg')\n",
    "dst = cv2.resize(img,None,fx=0.5,fy=0.5) #x,y배율 정의 (0.5배로 축소)\n",
    "\n",
    "cv2.imshow('img',img)\n",
    "cv2.imshow('resize',dst)\n",
    "cv2.waitKey(0)\n",
    "cv2.destroyAllWindows()"
   ]
  },
  {
   "cell_type": "markdown",
   "id": "8baf80ac",
   "metadata": {},
   "source": [
    "### 보간법\n",
    "\n",
    " 1. cv2.INTER_AREA : 크기 줄일 때 사용\n",
    " 1. cv2.INTER_CUBIC : 크기 늘릴 때 사용\n",
    " 1. cv2.INTER_LINEAR : 크기 늘릴 때 사용\n"
   ]
  },
  {
   "cell_type": "code",
   "execution_count": null,
   "id": "e0038965",
   "metadata": {},
   "outputs": [],
   "source": [
    "보간법 적용하여 축서"
   ]
  },
  {
   "cell_type": "code",
   "execution_count": 4,
   "id": "b54f82c7",
   "metadata": {},
   "outputs": [],
   "source": [
    "img = cv2.imread('img.jpg')\n",
    "dst = cv2.resize(img,None,fx=1.5,fy=1.5, interpolation=cv2.INTER_CUBIC) #x,y배율 정의 (0.5배로 축소)\n",
    "\n",
    "cv2.imshow('img',img)\n",
    "cv2.imshow('resize',dst)\n",
    "cv2.waitKey(0)\n",
    "cv2.destroyAllWindows()"
   ]
  },
  {
   "cell_type": "markdown",
   "id": "f8d25f2b",
   "metadata": {},
   "source": [
    "    동영상"
   ]
  },
  {
   "cell_type": "code",
   "execution_count": 7,
   "id": "50160ef3",
   "metadata": {},
   "outputs": [],
   "source": [
    "# 고정 크기로 설정\n",
    "cap = cv2.VideoCapture('video.mp4')\n",
    "\n",
    "while cap.isOpened():\n",
    "    ret, frame = cap.read()\n",
    "    if not ret:\n",
    "        break\n",
    "        \n",
    "    cv2.imshow('video',frame )\n",
    "    if cv2.waitKey(1)==ord('q'):\n",
    "        break\n",
    "        \n",
    "cap.release()\n",
    "cv2.destroyAllWindows()"
   ]
  },
  {
   "cell_type": "code",
   "execution_count": 9,
   "id": "6cb1eaab",
   "metadata": {},
   "outputs": [],
   "source": [
    "# 비율로 조정\n",
    "cap = cv2.VideoCapture('video.mp4')\n",
    "\n",
    "while cap.isOpened():\n",
    "    ret, frame = cap.read()\n",
    "    if not ret:\n",
    "        break\n",
    "    frame_resized = cv2.resize(frame,None, fx=1.5,fy=1.5,interpolation= cv2.INTER_CUBIC)\n",
    "    cv2.imshow('video',frame )\n",
    "    if cv2.waitKey(1)==ord('q'):\n",
    "        break\n",
    "        \n",
    "cap.release()\n",
    "cv2.destroyAllWindows()"
   ]
  },
  {
   "cell_type": "code",
   "execution_count": 15,
   "id": "61f85d2b",
   "metadata": {},
   "outputs": [
    {
     "data": {
      "text/plain": [
       "-5.551115123125783e-17"
      ]
     },
     "execution_count": 15,
     "metadata": {},
     "output_type": "execute_result"
    }
   ],
   "source": [
    "0.35-0.01*35"
   ]
  },
  {
   "cell_type": "raw",
   "id": "5037c559",
   "metadata": {},
   "source": [
    "# 상하 좌우 다 바꿀 때\n",
    "cv2.imshow('img.jpg')\n",
    "\n",
    "flip_both=cv2.flip(img,-1) #flipcode <0: 상하좌우 대칭\n",
    "\n",
    "cv2.imgshow('img',img)\n",
    "cv2.imgshow('flip_both', flip_both)\n",
    "cv2.waitKey(0)\n",
    "cv2.destroyAllWindows()"
   ]
  }
 ],
 "metadata": {
  "kernelspec": {
   "display_name": "Python 3",
   "language": "python",
   "name": "python3"
  },
  "language_info": {
   "codemirror_mode": {
    "name": "ipython",
    "version": 3
   },
   "file_extension": ".py",
   "mimetype": "text/x-python",
   "name": "python",
   "nbconvert_exporter": "python",
   "pygments_lexer": "ipython3",
   "version": "3.8.8"
  }
 },
 "nbformat": 4,
 "nbformat_minor": 5
}
