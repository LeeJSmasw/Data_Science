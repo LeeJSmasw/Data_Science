{
 "cells": [
  {
   "cell_type": "markdown",
   "id": "1aed9601",
   "metadata": {},
   "source": [
    "# 환경설정\n",
    "Anaconda Prompt에서 다음 명령 ㅜㅅ행\n",
    ">pip install opencv-python\n",
    "\n"
   ]
  },
  {
   "cell_type": "code",
   "execution_count": 1,
   "id": "a46be5dd",
   "metadata": {},
   "outputs": [
    {
     "data": {
      "text/plain": [
       "'4.5.5'"
      ]
     },
     "execution_count": 1,
     "metadata": {},
     "output_type": "execute_result"
    }
   ],
   "source": [
    "import cv2\n",
    "cv2.__version__ #버전 확인"
   ]
  },
  {
   "cell_type": "markdown",
   "id": "f2032075",
   "metadata": {},
   "source": [
    "# openCV(Computer Vision)\n",
    "다양한 영상(이미지) / 동영상 처리에 사용되는 오픈소스 라이브러리"
   ]
  },
  {
   "cell_type": "markdown",
   "id": "27f6ead7",
   "metadata": {},
   "source": [
    "1. 이미지 처리"
   ]
  },
  {
   "cell_type": "code",
   "execution_count": 1,
   "id": "18ec1a44",
   "metadata": {},
   "outputs": [],
   "source": [
    "import cv2\n",
    "img =cv2.imread('img.jpg') #  해당 경로의 파일 읽어오기"
   ]
  },
  {
   "cell_type": "code",
   "execution_count": 2,
   "id": "d5518116",
   "metadata": {},
   "outputs": [],
   "source": [
    "cv2.imshow('img',img) #img 라는 이름의 창에 img를 표시\n",
    "cv2.waitKey(0) #사용자가 키를 누를때 까지 대기해 # 0: 지정된 시간동안 사용자 키 입력 대시, 0하면 계속 # 지정된 시간(ms) 동안 사용자 키 입력 대기\n",
    "cv2.destroyAllWindows() # 모든 창 단기"
   ]
  },
  {
   "cell_type": "code",
   "execution_count": 4,
   "id": "0a180b39",
   "metadata": {},
   "outputs": [
    {
     "name": "stdout",
     "output_type": "stream",
     "text": [
      "113\n"
     ]
    }
   ],
   "source": [
    "cv2.imshow('img',img) #img 라는 이름의 창에 img를 표시\n",
    "key = cv2.waitKey(0) # q를 누르면 113 아스키 코드가 뜸,  키를 이용해 무언가를 할 수  있겠죠\n",
    "print(key)\n",
    "cv2.destroyAllWindows() # 모든 창 단기"
   ]
  },
  {
   "cell_type": "markdown",
   "id": "2003229e",
   "metadata": {},
   "source": [
    "## 읽기 옵션\n",
    "1. cv2.IMREAD_COLROR : 컬러 임지, 투명 영역은 무시(기본값)\n",
    "2. cv2.IMREAD_GRAYSCALE : 흑백 이미지\n",
    "3. cv2.IMREAD_UNCHANGED : 투명 역역까지 포함"
   ]
  },
  {
   "cell_type": "code",
   "execution_count": 8,
   "id": "d7038938",
   "metadata": {},
   "outputs": [],
   "source": [
    "import cv2\n",
    "img_color = cv2.imread('img.jpg', cv2.IMREAD_COLOR)\n",
    "img_gray = cv2.imread('img.jpg', cv2.IMREAD_GRAYSCALE)\n",
    "img_unchanged = cv2.imread('img.jpg', cv2.IMREAD_UNCHANGED)\n",
    "\n",
    "cv2.imshow('img_color', img_color)\n",
    "cv2.imshow('img_gray', img_gray)\n",
    "cv2.imshow('img_unchanged', img_unchanged) #color와 차이가 없어보이지만 좀 더 지켜봐!\n",
    "\n",
    "cv2.waitKey(0)\n",
    "cv2.destroyAllWindows()"
   ]
  },
  {
   "cell_type": "code",
   "execution_count": null,
   "id": "6de58e99",
   "metadata": {},
   "outputs": [],
   "source": [
    "##shape\n",
    "이미지의 height ,width, channel 정보 가져오기"
   ]
  },
  {
   "cell_type": "code",
   "execution_count": 9,
   "id": "c32b026e",
   "metadata": {},
   "outputs": [
    {
     "data": {
      "text/plain": [
       "(390, 640, 3)"
      ]
     },
     "execution_count": 9,
     "metadata": {},
     "output_type": "execute_result"
    }
   ],
   "source": [
    "import cv2\n",
    "img = cv2.imread('img.jpg')\n",
    "img.shape"
   ]
  },
  {
   "cell_type": "code",
   "execution_count": null,
   "id": "cebec536",
   "metadata": {},
   "outputs": [],
   "source": [
    "#동영상 출력???"
   ]
  },
  {
   "cell_type": "code",
   "execution_count": null,
   "id": "b8882e8a",
   "metadata": {},
   "outputs": [],
   "source": []
  },
  {
   "cell_type": "code",
   "execution_count": null,
   "id": "16bafa71",
   "metadata": {},
   "outputs": [],
   "source": []
  },
  {
   "cell_type": "code",
   "execution_count": null,
   "id": "8c3533ed",
   "metadata": {},
   "outputs": [],
   "source": []
  },
  {
   "cell_type": "code",
   "execution_count": null,
   "id": "b6734470",
   "metadata": {},
   "outputs": [],
   "source": []
  },
  {
   "cell_type": "code",
   "execution_count": null,
   "id": "3c21a6e4",
   "metadata": {},
   "outputs": [],
   "source": []
  }
 ],
 "metadata": {
  "kernelspec": {
   "display_name": "Python 3",
   "language": "python",
   "name": "python3"
  },
  "language_info": {
   "codemirror_mode": {
    "name": "ipython",
    "version": 3
   },
   "file_extension": ".py",
   "mimetype": "text/x-python",
   "name": "python",
   "nbconvert_exporter": "python",
   "pygments_lexer": "ipython3",
   "version": "3.8.8"
  }
 },
 "nbformat": 4,
 "nbformat_minor": 5
}
