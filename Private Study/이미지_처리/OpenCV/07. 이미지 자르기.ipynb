{
 "cells": [
  {
   "cell_type": "code",
   "execution_count": null,
   "id": "8f1c3a89",
   "metadata": {},
   "outputs": [],
   "source": [
    "# 7. 이미지 자르기"
   ]
  },
  {
   "cell_type": "markdown",
   "id": "e10a81b8",
   "metadata": {},
   "source": [
    "영역을 잘라서 새로운 윈도우(창)에 표시"
   ]
  },
  {
   "cell_type": "code",
   "execution_count": 2,
   "id": "7d0d9a87",
   "metadata": {},
   "outputs": [],
   "source": [
    "import cv2\n",
    "img = cv2.imread('img.jpg')\n",
    "#img.shape #(390,640,3)\n",
    "\n",
    "# crop = img[세로범위, 가로범위]\n",
    "crop = img[100:200,300:400]"
   ]
  },
  {
   "cell_type": "code",
   "execution_count": 4,
   "id": "992a8f3d",
   "metadata": {},
   "outputs": [],
   "source": [
    "cv2.imshow('img',crop)\n",
    "cv2.waitKey(0)\n",
    "cv2.destroyAllWindows()"
   ]
  },
  {
   "cell_type": "code",
   "execution_count": 7,
   "id": "6890d819",
   "metadata": {},
   "outputs": [],
   "source": [
    "#자르고 그걸 다시 사진에 붙이기!\n",
    "crop = img[100:200,200:400]\n",
    "img[100:200,400:600]=crop\n",
    "\n",
    "cv2.imshow('img',img)\n",
    "cv2.waitKey(0)\n",
    "cv2.destroyAllWindows()"
   ]
  },
  {
   "cell_type": "code",
   "execution_count": null,
   "id": "58423f6e",
   "metadata": {},
   "outputs": [],
   "source": []
  },
  {
   "cell_type": "code",
   "execution_count": null,
   "id": "1e06ea50",
   "metadata": {},
   "outputs": [],
   "source": []
  }
 ],
 "metadata": {
  "kernelspec": {
   "display_name": "Python 3",
   "language": "python",
   "name": "python3"
  },
  "language_info": {
   "codemirror_mode": {
    "name": "ipython",
    "version": 3
   },
   "file_extension": ".py",
   "mimetype": "text/x-python",
   "name": "python",
   "nbconvert_exporter": "python",
   "pygments_lexer": "ipython3",
   "version": "3.8.8"
  }
 },
 "nbformat": 4,
 "nbformat_minor": 5
}
