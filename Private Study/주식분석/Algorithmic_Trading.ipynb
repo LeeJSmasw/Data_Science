{
 "cells": [
  {
   "cell_type": "code",
   "execution_count": 1,
   "metadata": {},
   "outputs": [
    {
     "name": "stdout",
     "output_type": "stream",
     "text": [
      "<class 'datetime.datetime'>\n",
      "2018-05-13 12:34:56\n"
     ]
    }
   ],
   "source": [
    "import datetime\n",
    "format = '%Y-%m-%d %H:%M:%S' \n",
    "datetime_str = '2018-05-13 12:34:56'\n",
    "datetime_dt = datetime.datetime.strptime(datetime_str, format)\n",
    "print(type(datetime_dt))\n",
    "print(datetime_dt)"
   ]
  },
  {
   "cell_type": "code",
   "execution_count": 2,
   "metadata": {},
   "outputs": [
    {
     "name": "stdout",
     "output_type": "stream",
     "text": [
      "<class 'str'>\n",
      "2018-05-13 12:34:56\n"
     ]
    }
   ],
   "source": [
    "datetime_str = datetime_dt.strftime('%Y-%m-%d %H:%M:%S')\n",
    "\n",
    "print(type(datetime_str)) # <class 'str'>\n",
    "print(datetime_str)       # 2018-08-24 18:00:25"
   ]
  },
  {
   "cell_type": "code",
   "execution_count": 3,
   "metadata": {},
   "outputs": [
    {
     "name": "stdout",
     "output_type": "stream",
     "text": [
      "<class 'str'>\n",
      "2018-05-13 12\n"
     ]
    }
   ],
   "source": [
    "datetime_str = datetime_dt.strftime('%Y-%m-%d %H')\n",
    "\n",
    "print(type(datetime_str)) # <class 'str'>\n",
    "print(datetime_str)       # 2018-08-24 18:00:25"
   ]
  },
  {
   "cell_type": "code",
   "execution_count": 4,
   "metadata": {},
   "outputs": [
    {
     "data": {
      "text/plain": [
       "datetime.datetime(2019, 4, 11, 0, 0)"
      ]
     },
     "execution_count": 4,
     "metadata": {},
     "output_type": "execute_result"
    }
   ],
   "source": [
    "import datetime\n",
    "# 임의의 시간간격을 정의한다.\n",
    "td = datetime.timedelta(days=100) # 100일을 뜻한다.\n",
    "datetime.datetime(2019,1,1) + td # 2019년 1월 1일 후 100일 뒤 날짜가 보인다."
   ]
  },
  {
   "cell_type": "code",
   "execution_count": 5,
   "metadata": {},
   "outputs": [
    {
     "data": {
      "text/plain": [
       "datetime.timedelta(days=31)"
      ]
     },
     "execution_count": 5,
     "metadata": {},
     "output_type": "execute_result"
    }
   ],
   "source": [
    "dt1 = datetime.datetime(2019, 1, 1, 14)\n",
    "dt2 = datetime.datetime(2019, 2, 1, 14)\n",
    "td = dt2 - dt1\n",
    "td  # 날짜 차이를 보여준다."
   ]
  },
  {
   "cell_type": "code",
   "execution_count": 6,
   "metadata": {},
   "outputs": [
    {
     "data": {
      "text/plain": [
       "numpy.datetime64('1970-01-01T00:00:00.000001000')"
      ]
     },
     "execution_count": 6,
     "metadata": {},
     "output_type": "execute_result"
    }
   ],
   "source": [
    "import numpy as np\n",
    "np.datetime64(1000,'ns')"
   ]
  },
  {
   "cell_type": "code",
   "execution_count": null,
   "metadata": {},
   "outputs": [],
   "source": []
  }
 ],
 "metadata": {
  "interpreter": {
   "hash": "744ecfc10ac2d171c3bd316844f313bbe8516d91ab7badfb0818b539d4ffe180"
  },
  "kernelspec": {
   "display_name": "Python 3.9.9 64-bit",
   "language": "python",
   "name": "python3"
  },
  "language_info": {
   "codemirror_mode": {
    "name": "ipython",
    "version": 3
   },
   "file_extension": ".py",
   "mimetype": "text/x-python",
   "name": "python",
   "nbconvert_exporter": "python",
   "pygments_lexer": "ipython3",
   "version": "3.9.9"
  },
  "orig_nbformat": 4
 },
 "nbformat": 4,
 "nbformat_minor": 2
}
