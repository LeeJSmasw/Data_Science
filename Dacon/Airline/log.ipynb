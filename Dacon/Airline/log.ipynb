{
 "cells": [
  {
   "cell_type": "code",
   "execution_count": null,
   "metadata": {},
   "outputs": [],
   "source": [
    "import logging\n",
    "logging.basicConfig(level=logging.INFO)\n",
    "\n",
    "logging.info('This is an info message')\n",
    "# 아래와 같은 메시지가 출력됩니다!\n",
    "# INFO:root:This is an info message\n"
   ]
  },
  {
   "cell_type": "code",
   "execution_count": 1,
   "metadata": {},
   "outputs": [],
   "source": [
    "import logging\n",
    "logging.basicConfig(filename='dummy.log', level=logging.INFO)\n",
    "logging.debug('this is a debug')\n",
    "logging.info('this is an info')\n",
    "logging.warning('this is a warning')"
   ]
  },
  {
   "cell_type": "code",
   "execution_count": null,
   "metadata": {},
   "outputs": [],
   "source": [
    "import logging\n",
    "logging.basicConfig(\n",
    "  format = '%(asctime)s:%(levelname)s:%(message)s',\n",
    "  datefmt = '%m/%d/%Y %I:%M:%S %p',\n",
    "  level = logging.DEBUG\n",
    ")\n",
    "logging.debug('This is a formatted debug message')\n",
    "\n",
    "# 03/12/2019 05:20:12 PM:DEBUG:This is a formatted debug message\n"
   ]
  }
 ],
 "metadata": {
  "interpreter": {
   "hash": "744ecfc10ac2d171c3bd316844f313bbe8516d91ab7badfb0818b539d4ffe180"
  },
  "kernelspec": {
   "display_name": "Python 3.9.9 64-bit",
   "language": "python",
   "name": "python3"
  },
  "language_info": {
   "codemirror_mode": {
    "name": "ipython",
    "version": 3
   },
   "file_extension": ".py",
   "mimetype": "text/x-python",
   "name": "python",
   "nbconvert_exporter": "python",
   "pygments_lexer": "ipython3",
   "version": "3.9.9"
  },
  "orig_nbformat": 4
 },
 "nbformat": 4,
 "nbformat_minor": 2
}
